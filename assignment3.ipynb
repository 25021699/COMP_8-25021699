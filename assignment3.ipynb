{
  "nbformat": 4,
  "nbformat_minor": 0,
  "metadata": {
    "colab": {
      "provenance": []
    },
    "kernelspec": {
      "name": "python3",
      "display_name": "Python 3"
    },
    "language_info": {
      "name": "python"
    }
  },
  "cells": [
    {
      "cell_type": "code",
      "execution_count": 6,
      "metadata": {
        "colab": {
          "base_uri": "https://localhost:8080/"
        },
        "id": "6YaWb7rV1l2L",
        "outputId": "23890d08-0ec0-4189-af8c-7c238595b6f2"
      },
      "outputs": [
        {
          "output_type": "stream",
          "name": "stdout",
          "text": [
            "Nhập số nguyên:12345678\n",
            "Số đảo ngược của bạn là: 87654321\n"
          ]
        }
      ],
      "source": [
        "#Cau 1\n",
        "n = int(input(\"Nhập số nguyên:\"))\n",
        "x = str(n)[::-1]\n",
        "print(\"Số đảo ngược của bạn là:\", x)"
      ]
    },
    {
      "cell_type": "code",
      "source": [
        "#Cau 2\n",
        "a = int(input(\"Nhập số nguyên a: \"))\n",
        "b = int(input(\"Nhập số nguyên b: \"))\n",
        "\n",
        "print(\"Trước khi đổi: a =\", a, \", b =\", b)\n",
        "\n",
        "a = a ^ b\n",
        "b = a ^ b\n",
        "a = a ^ b\n",
        "\n",
        "print(\"Sau khi đổi: a =\", a, \", b =\", b)\n"
      ],
      "metadata": {
        "colab": {
          "base_uri": "https://localhost:8080/"
        },
        "id": "rRK9nZED3911",
        "outputId": "23594640-62b2-4c17-8149-f0be12444f82"
      },
      "execution_count": 7,
      "outputs": [
        {
          "output_type": "stream",
          "name": "stdout",
          "text": [
            "Nhập số nguyên a: 10\n",
            "Nhập số nguyên b: 7\n",
            "Trước khi hoán đổi: a = 10 , b = 7\n",
            "Sau khi hoán đổi: a = 7 , b = 10\n"
          ]
        }
      ]
    },
    {
      "cell_type": "code",
      "source": [
        "#Cau 3\n",
        "n = int(input(\"Nhập số của bạn:\"))\n",
        "if n>0 and n & (n-1) == 0:\n",
        "  print(\"True\")\n",
        "else:\n",
        "  print(\"False\")"
      ],
      "metadata": {
        "colab": {
          "base_uri": "https://localhost:8080/"
        },
        "id": "0PlDHwlv_uBt",
        "outputId": "195476a8-0ebb-4c6b-e94f-fa0087c4a35f"
      },
      "execution_count": 16,
      "outputs": [
        {
          "output_type": "stream",
          "name": "stdout",
          "text": [
            "Nhập số của bạn:4\n",
            "True\n"
          ]
        }
      ]
    },
    {
      "cell_type": "code",
      "source": [
        "#Cau 4\n",
        "a = int(input(\"Nhập số của bạn:\"))\n",
        "b = int(input(\"Nhập số của bạn:\"))\n",
        "result = a//b\n",
        "print(result)"
      ],
      "metadata": {
        "colab": {
          "base_uri": "https://localhost:8080/"
        },
        "id": "Vb31ctPR_xTm",
        "outputId": "69941e60-cb6e-4b80-f633-b1f0c33a8baf"
      },
      "execution_count": 24,
      "outputs": [
        {
          "output_type": "stream",
          "name": "stdout",
          "text": [
            "Nhập số của bạn:10\n",
            "Nhập số của bạn:4\n",
            "2\n"
          ]
        }
      ]
    },
    {
      "cell_type": "code",
      "source": [
        "#Cau 5\n",
        "import math\n",
        "a = int(input(\"Nhập số:\"))\n",
        "b = int(input(\"Nhập số:\"))\n",
        "print(math.ceil(a/b))"
      ],
      "metadata": {
        "colab": {
          "base_uri": "https://localhost:8080/"
        },
        "id": "6Uj-31T2MRCI",
        "outputId": "1c965984-5f21-4142-9e3b-257e1301ed92"
      },
      "execution_count": 29,
      "outputs": [
        {
          "output_type": "stream",
          "name": "stdout",
          "text": [
            "Nhập số:2442\n",
            "Nhập số:2\n",
            "1221\n"
          ]
        }
      ]
    },
    {
      "cell_type": "code",
      "source": [
        "#Cau 6\n",
        "a = int(input(\"Nhập số:\"))\n",
        "if a>0 and a % 2==0:\n",
        "   print(\"Even\")\n",
        "else:\n",
        "   print(\"Odd\")"
      ],
      "metadata": {
        "colab": {
          "base_uri": "https://localhost:8080/"
        },
        "id": "hvfYA3nE_xQF",
        "outputId": "b25c1e73-1b2c-4c70-ab8c-6fbdababe6e5"
      },
      "execution_count": 30,
      "outputs": [
        {
          "output_type": "stream",
          "name": "stdout",
          "text": [
            "Nhập số:2\n",
            "Even\n"
          ]
        }
      ]
    },
    {
      "cell_type": "code",
      "source": [
        "#Cau 7\n",
        "a = int(input(\"Nhập số:\"))\n",
        "b =  int(input(\"Nhập số:\"))\n",
        "if a and b < 0:\n",
        "  print(\"Yes\")\n",
        "else:\n",
        "  print(\"No\")\n"
      ],
      "metadata": {
        "colab": {
          "base_uri": "https://localhost:8080/"
        },
        "id": "MhXgG33w_xLa",
        "outputId": "764c8a5a-90a4-4b49-893a-96426028c72a"
      },
      "execution_count": 34,
      "outputs": [
        {
          "output_type": "stream",
          "name": "stdout",
          "text": [
            "Nhập số:4\n",
            "Nhập số:4\n",
            "No\n"
          ]
        }
      ]
    },
    {
      "cell_type": "code",
      "source": [
        "#Cau 8\n",
        "a = input(\"Nhập từ của bạn:\")\n",
        "b = input(\"Nhập từ cua bạn:\")\n",
        "if len(a) > len(b) :\n",
        "  print(\"True\")\n",
        "else:\n",
        "  print(\"False\")"
      ],
      "metadata": {
        "colab": {
          "base_uri": "https://localhost:8080/"
        },
        "id": "mb6jKHx9_xIl",
        "outputId": "03ab76ce-7cf1-4ac3-ba66-d850d9633364"
      },
      "execution_count": 37,
      "outputs": [
        {
          "output_type": "stream",
          "name": "stdout",
          "text": [
            "Nhập từ của bạn:cat\n",
            "Nhập từ cua bạn:dodge\n",
            "False\n"
          ]
        }
      ]
    },
    {
      "cell_type": "code",
      "source": [
        "#Cau 9\n",
        "a = int(input(\"Nhập cạnh:\"))\n",
        "b =  int(input(\"Nhập cạnh:\"))\n",
        "c = int(input(\"Nhập cạnh:\"))\n",
        "if a > 0 and b > 0 and c > 0 :\n",
        "   if  a + b > c and a + c> b and b + c> a :\n",
        "       print(\"Yes\")\n",
        "   else:\n",
        "       print(\"No\")\n",
        "else:\n",
        "     print(\"No\")"
      ],
      "metadata": {
        "colab": {
          "base_uri": "https://localhost:8080/"
        },
        "id": "k710nRft_xF4",
        "outputId": "a0be302f-7315-48b2-969a-e87f03449273"
      },
      "execution_count": 52,
      "outputs": [
        {
          "output_type": "stream",
          "name": "stdout",
          "text": [
            "Nhập cạnh:1\n",
            "Nhập cạnh:2\n",
            "Nhập cạnh:3\n",
            "No\n"
          ]
        }
      ]
    },
    {
      "cell_type": "code",
      "source": [
        "#Cau 10\n",
        "a = int(input(\"Nhập số:\"))\n",
        "b = int(input(\"Nhập số:\"))\n",
        "c = int(input(\"Nhập số:\"))\n",
        "d = int(input(\"Nhập số:\"))\n",
        "max_num = a\n",
        "if b>a:\n",
        "  max_num=b\n",
        "if c>b:\n",
        "  max_num=c\n",
        "if d>c:\n",
        "  max_num=d\n",
        "print(\"số lớn nhất là: \", max_num)"
      ],
      "metadata": {
        "colab": {
          "base_uri": "https://localhost:8080/"
        },
        "id": "by1kzPnM_w8l",
        "outputId": "3b869b93-cb39-4c0b-8947-15e8b7b88503"
      },
      "execution_count": 58,
      "outputs": [
        {
          "output_type": "stream",
          "name": "stdout",
          "text": [
            "Nhập số:1234\n",
            "Nhập số:123\n",
            "Nhập số:123467\n",
            "Nhập số:1245\n",
            "số lớn nhất là:  123467\n"
          ]
        }
      ]
    },
    {
      "cell_type": "code",
      "source": [
        "#Cau 11\n",
        "a = int(input(\"Nhập cạnh:\"))\n",
        "b =  int(input(\"Nhập cạnh:\"))\n",
        "c = int(input(\"Nhập cạnh:\"))\n",
        "max_num = a\n",
        "if a > 0 and b > 0 and c > 0 :\n",
        "   if  a + b > c and a + c> b and b + c> a :\n",
        "       if a == b == c:\n",
        "          print(\"Tam giác đều\")\n",
        "       if b>a and b>c or a>b and a>c or c>a and c>b:\n",
        "          if a**2 == b**2 + c**2 or b**2 == c**2 + a**2 or c**2 == a**2 + b**2:\n",
        "            print(\"Tam giác vuông\")\n",
        "       if c>a and a==b or b>a and c==a or a>b and b==c:\n",
        "            print(\"Tam giác cân\")\n",
        "   else:\n",
        "        print(\"Tam giác thường\")\n",
        "else:\n",
        "  print(\"Không phải tam giác\")\n",
        "\n",
        "\n",
        ""
      ],
      "metadata": {
        "colab": {
          "base_uri": "https://localhost:8080/"
        },
        "id": "uM1skxqU_w49",
        "outputId": "45872c51-c95e-4d81-a712-81db378ad8e8"
      },
      "execution_count": 72,
      "outputs": [
        {
          "output_type": "stream",
          "name": "stdout",
          "text": [
            "Nhập cạnh:-1\n",
            "Nhập cạnh:2\n",
            "Nhập cạnh:3\n",
            "Không phải tam giác\n"
          ]
        }
      ]
    },
    {
      "cell_type": "code",
      "source": [
        "#Cau 12\n",
        "a = int(input(\"Nhập năm của bạn: \"))\n",
        "if a%4 == 0 and a%100 != 0 or a&400 == 0:\n",
        "   print(\"Yes\")\n",
        "else:\n",
        "   print(\"No\")"
      ],
      "metadata": {
        "colab": {
          "base_uri": "https://localhost:8080/"
        },
        "id": "SrQpC3EC_wzQ",
        "outputId": "92f6ed0b-0cec-48d9-8960-07f5344145ca"
      },
      "execution_count": 75,
      "outputs": [
        {
          "output_type": "stream",
          "name": "stdout",
          "text": [
            "Nhập năm của bạn: 2024\n",
            "Yes\n"
          ]
        }
      ]
    },
    {
      "cell_type": "code",
      "source": [
        "#Cau 13\n",
        "a = int(input(\"Nhập số điện: \"))\n",
        "\n",
        "if 0 <= a <= 50:\n",
        "    total = a * 1500\n",
        "elif 51 <= a <= 100:\n",
        "    total = 50 * 1500 + (a - 50) * 2000\n",
        "else:\n",
        "    total = 50 * 1500 + 50 * 2000 + (a - 100) * 3000\n",
        "\n",
        "print(\"Tiền điện phải trả là:\", total, \"đồng\")\n"
      ],
      "metadata": {
        "colab": {
          "base_uri": "https://localhost:8080/"
        },
        "id": "-f0ziAja_whV",
        "outputId": "b4e43ba5-dbd4-4c1c-80a7-aef3129ac8a5"
      },
      "execution_count": 87,
      "outputs": [
        {
          "output_type": "stream",
          "name": "stdout",
          "text": [
            "Nhập số điện: 50\n",
            "Tiền điện phải trả là: 75000 đồng\n"
          ]
        }
      ]
    },
    {
      "cell_type": "code",
      "source": [
        "#Cau 14\n",
        "a = float(input(\"Nhập a: \"))\n",
        "b = float(input(\"Nhập b: \"))\n",
        "\n",
        "if a == 0:\n",
        "    if b == 0:\n",
        "        print(\"Vô số nghiệm\")\n",
        "    else:\n",
        "        print(\"Vô nghiệm\")\n",
        "else:\n",
        "    x = -b / a\n",
        "    print(\"Nghiệm của phương trình là:\", round(x, 2))\n"
      ],
      "metadata": {
        "colab": {
          "base_uri": "https://localhost:8080/"
        },
        "id": "QbcT7r_J2j0I",
        "outputId": "ba6ef559-73bd-44db-e79f-976506c7677d"
      },
      "execution_count": 89,
      "outputs": [
        {
          "output_type": "stream",
          "name": "stdout",
          "text": [
            "Nhập a: 0\n",
            "Nhập b: 34\n",
            "Vô nghiệm\n"
          ]
        }
      ]
    },
    {
      "cell_type": "code",
      "source": [
        "#Cau 15\n",
        "diem = float(input(\"Nhập điểm trung bình: \"))\n",
        "\n",
        "if diem >= 8.0:\n",
        "    print(\"Học lực: Giỏi\")\n",
        "elif diem >= 6.5:\n",
        "    print(\"Học lực: Khá\")\n",
        "elif diem >= 5.0:\n",
        "    print(\"Học lực: Trung bình\")\n",
        "else:\n",
        "    print(\"Học lực: Yếu\")\n"
      ],
      "metadata": {
        "id": "DJS7Kno_2kF-"
      },
      "execution_count": null,
      "outputs": []
    },
    {
      "cell_type": "code",
      "source": [],
      "metadata": {
        "id": "oL6ugOIT2kY2"
      },
      "execution_count": null,
      "outputs": []
    },
    {
      "cell_type": "code",
      "source": [],
      "metadata": {
        "id": "s5cCGY-d2k2H"
      },
      "execution_count": null,
      "outputs": []
    }
  ]
}