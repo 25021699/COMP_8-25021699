{
  "nbformat": 4,
  "nbformat_minor": 0,
  "metadata": {
    "colab": {
      "provenance": []
    },
    "kernelspec": {
      "name": "python3",
      "display_name": "Python 3"
    },
    "language_info": {
      "name": "python"
    }
  },
  "cells": [
    {
      "cell_type": "code",
      "execution_count": 6,
      "metadata": {
        "colab": {
          "base_uri": "https://localhost:8080/"
        },
        "id": "IZVh-IewsfR8",
        "outputId": "3575d645-2f37-4c10-86a4-12c5d00448fb"
      },
      "outputs": [
        {
          "output_type": "stream",
          "name": "stdout",
          "text": [
            "Hello World!\n"
          ]
        }
      ],
      "source": [
        "#W2A1\n",
        "print (\"Hello World!\")"
      ]
    },
    {
      "cell_type": "code",
      "source": [
        "#W2A2\n",
        "x= input(\"Hi, what is your name? \")\n",
        "print(f\"Nice to meet you, {x}\")"
      ],
      "metadata": {
        "colab": {
          "base_uri": "https://localhost:8080/"
        },
        "id": "haeyvZwEveYB",
        "outputId": "c188254b-9bc6-4d2c-89c5-f37a3caab2d3"
      },
      "execution_count": 32,
      "outputs": [
        {
          "output_type": "stream",
          "name": "stdout",
          "text": [
            "Hi, what is your name? Duong\n",
            "Nice to meet you, Duong\n"
          ]
        }
      ]
    },
    {
      "cell_type": "code",
      "source": [
        "#W2A16\n",
        "print(\"Spring\\nSummer\\nAutumn\\nWinter\")"
      ],
      "metadata": {
        "colab": {
          "base_uri": "https://localhost:8080/"
        },
        "id": "osJr64eGwgO8",
        "outputId": "03153d09-74ae-430d-829f-d3376f3a644b"
      },
      "execution_count": 33,
      "outputs": [
        {
          "output_type": "stream",
          "name": "stdout",
          "text": [
            "Spring\n",
            "Summer\n",
            "Autumn\n",
            "Winter\n"
          ]
        }
      ]
    },
    {
      "cell_type": "code",
      "source": [
        "#W2A17\n",
        "for i in range(1, 6, 2):\n",
        "    print(\"*\" * i)"
      ],
      "metadata": {
        "colab": {
          "base_uri": "https://localhost:8080/"
        },
        "id": "3M9KGSMQw6-u",
        "outputId": "3e0cae78-6c3d-4331-9b86-6a4d44d3c579"
      },
      "execution_count": 45,
      "outputs": [
        {
          "output_type": "stream",
          "name": "stdout",
          "text": [
            "*\n",
            "***\n",
            "*****\n"
          ]
        }
      ]
    },
    {
      "cell_type": "code",
      "source": [
        "#W2A18\n",
        "print(\"### # # ### ###\")\n",
        "print(\"# # # #   #   #\")\n",
        "print(\"# # # #   #   #\")\n",
        "print(\"# # # #   #   #\")\n",
        "print(\"# # # #   #   #\")\n"
      ],
      "metadata": {
        "colab": {
          "base_uri": "https://localhost:8080/"
        },
        "id": "Na-MPwMGy8jQ",
        "outputId": "03dcf602-36e1-4b06-d8f1-708509a733bf"
      },
      "execution_count": 46,
      "outputs": [
        {
          "output_type": "stream",
          "name": "stdout",
          "text": [
            "### # # ### ###\n",
            "# # # #   #   #\n",
            "# # # #   #   #\n",
            "# # # #   #   #\n",
            "# # # #   #   #\n"
          ]
        }
      ]
    },
    {
      "cell_type": "code",
      "source": [
        "#W2A19\n",
        "print(\"Monday\\nTuesday\\nWednesday\\nThursday\\nFriday\\nSaturday\\nSunday\")"
      ],
      "metadata": {
        "colab": {
          "base_uri": "https://localhost:8080/"
        },
        "id": "dMXdSspgz_Bz",
        "outputId": "f9db2777-96a7-41d5-e545-b25aa58a9e8a"
      },
      "execution_count": 48,
      "outputs": [
        {
          "output_type": "stream",
          "name": "stdout",
          "text": [
            "Monday\n",
            "Tuesday\n",
            "Wednesday\n",
            "Thursday\n",
            "Friday\n",
            "Saturday\n",
            "Sunday\n"
          ]
        }
      ]
    },
    {
      "cell_type": "code",
      "source": [
        "#W2A20\n",
        "print(\"January\\nFebruary\\nMarch\\nApril\\nMay\\nJune\\nJuly\\nAugust\\nSeptember\\nOctober\\nNovember\\nDecember\")"
      ],
      "metadata": {
        "colab": {
          "base_uri": "https://localhost:8080/"
        },
        "id": "F2oJRFqR0mXO",
        "outputId": "68b9cfe5-e51a-4b71-b2f8-60e7382c1d7d"
      },
      "execution_count": 52,
      "outputs": [
        {
          "output_type": "stream",
          "name": "stdout",
          "text": [
            "January\n",
            "February\n",
            "March\n",
            "April\n",
            "May\n",
            "June\n",
            "July\n",
            "August\n",
            "September\n",
            "October\n",
            "November\n",
            "December\n"
          ]
        }
      ]
    },
    {
      "cell_type": "code",
      "source": [
        "#W2A21\n",
        "\n",
        "for i in range(10):\n",
        "    print(\"Hello, world\")\n"
      ],
      "metadata": {
        "colab": {
          "base_uri": "https://localhost:8080/"
        },
        "id": "DAdHkVEl1pPK",
        "outputId": "646a3fec-aa4e-4ca4-80bb-9521e7fb00c8"
      },
      "execution_count": 58,
      "outputs": [
        {
          "output_type": "stream",
          "name": "stdout",
          "text": [
            "Hello, world\n",
            "Hello, world\n",
            "Hello, world\n",
            "Hello, world\n",
            "Hello, world\n",
            "Hello, world\n",
            "Hello, world\n",
            "Hello, world\n",
            "Hello, world\n",
            "Hello, world\n"
          ]
        }
      ]
    }
  ]
}